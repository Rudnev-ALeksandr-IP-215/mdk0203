{
 "cells": [
  {
   "cell_type": "markdown",
   "id": "cf55b112-7caa-49f1-8a9a-ca79c94709ab",
   "metadata": {},
   "source": [
    "Практика 14 Задача 1"
   ]
  },
  {
   "cell_type": "code",
   "execution_count": 1,
   "id": "457c3692-4c02-4aa6-b842-52dcdcaa01af",
   "metadata": {},
   "outputs": [
    {
     "name": "stdout",
     "output_type": "stream",
     "text": [
      "239.41063200000002\n"
     ]
    }
   ],
   "source": [
    "def get_wv(D0):\n",
    "    h = 6.626e-34\n",
    "    c = 3.0e8\n",
    "    N_A = 6.022e23\n",
    "    \n",
    "    E_molecule = (D0 * 1e3) / N_A\n",
    "    lambda_wave = h * c / E_molecule\n",
    "    lambda_wave_nm = lambda_wave * 1e9\n",
    "    return lambda_wave_nm\n",
    "\n",
    "print(get_wv(500))"
   ]
  },
  {
   "cell_type": "code",
   "execution_count": null,
   "id": "eeedc2b6-bcbd-4e0c-a231-28bfade2166f",
   "metadata": {},
   "outputs": [],
   "source": []
  }
 ],
 "metadata": {
  "kernelspec": {
   "display_name": "Python 3 (ipykernel)",
   "language": "python",
   "name": "python3"
  },
  "language_info": {
   "codemirror_mode": {
    "name": "ipython",
    "version": 3
   },
   "file_extension": ".py",
   "mimetype": "text/x-python",
   "name": "python",
   "nbconvert_exporter": "python",
   "pygments_lexer": "ipython3",
   "version": "3.12.7"
  }
 },
 "nbformat": 4,
 "nbformat_minor": 5
}
