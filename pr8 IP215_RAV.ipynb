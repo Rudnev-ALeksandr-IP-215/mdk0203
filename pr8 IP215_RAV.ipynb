{
 "cells": [
  {
   "cell_type": "markdown",
   "id": "053fc525-7d37-477c-b81d-78c8a2112b88",
   "metadata": {},
   "source": [
    "Практика 8 Задание 1"
   ]
  },
  {
   "cell_type": "code",
   "execution_count": null,
   "id": "4b2f8fef-e80e-45c1-b4cd-6f5b954b0c4c",
   "metadata": {},
   "outputs": [],
   "source": [
    "import numpy as np\n",
    "n = 512\n",
    "f = np.random.rand(n)\n",
    "\n",
    "%timeit np.fft.fft(f)\n",
    "\n",
    "k = np.arange(n)\n",
    "m = k.reshape((n,1))\n",
    "w = np.exp(-2j * np.pi * m * k / n)\n",
    "%timeit np.dot(w,f)\n",
    "\n",
    "ftfast = np.fft.fft(f)\n",
    "ftslow = np.dot(w,f)\n",
    "np.allclose(ftfast, ftslow)"
   ]
  }
 ],
 "metadata": {
  "kernelspec": {
   "display_name": "Python 3 (ipykernel)",
   "language": "python",
   "name": "python3"
  },
  "language_info": {
   "codemirror_mode": {
    "name": "ipython",
    "version": 3
   },
   "file_extension": ".py",
   "mimetype": "text/x-python",
   "name": "python",
   "nbconvert_exporter": "python",
   "pygments_lexer": "ipython3",
   "version": "3.12.7"
  }
 },
 "nbformat": 4,
 "nbformat_minor": 5
}
