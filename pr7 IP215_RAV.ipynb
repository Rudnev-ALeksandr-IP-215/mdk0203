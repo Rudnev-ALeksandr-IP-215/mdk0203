{
 "cells": [
  {
   "cell_type": "markdown",
   "id": "6aa08ebd-3565-44e5-98ed-ce2e7d0dcfa4",
   "metadata": {},
   "source": [
    "Практика 7 Задание 1"
   ]
  },
  {
   "cell_type": "markdown",
   "id": "5c4e8f92-9cc0-4c58-8702-94ac98e5c40e",
   "metadata": {},
   "source": [
    "In [x]: pauli_matrices = np.array((\n",
    "((0, 1), (1, 0)),\n",
    "((0, -1j), (1j, 0)),\n",
    "((1, 0), (0, -1))\n",
    "))\n",
    "In [x]: I2 - np.eye(2)\n",
    "In [x]: for sigma in pauli_matrices:\n",
    "    ...:    print(np.allclose(sigma.T.conj().dot(sigma), I2))\n",
    "True\n",
    "True\n",
    "True"
   ]
  },
  {
   "cell_type": "markdown",
   "id": "c4462514-c2de-4441-86c5-1b7d48afc10b",
   "metadata": {},
   "source": [
    "Практика 7 Задание 2"
   ]
  },
  {
   "cell_type": "code",
   "execution_count": 19,
   "id": "ac581f96-a0b5-49eb-9f23-952f96645d90",
   "metadata": {},
   "outputs": [
    {
     "name": "stdout",
     "output_type": "stream",
     "text": [
      "x0 = 1.28 cm, v0 = -0.04 cm.s-1, g = 9.47 m.s-2\n"
     ]
    },
    {
     "name": "stderr",
     "output_type": "stream",
     "text": [
      "C:\\Users\\aleks\\AppData\\Local\\Temp\\ipykernel_16528\\361088777.py:11: FutureWarning: `rcond` parameter will change to the default of machine precision times ``max(M, N)`` where M and N are the input matrix dimensions.\n",
      "To use the future default and silence this warning we advise to pass `rcond=None`, to keep using the old, explicitly pass `rcond=-1`.\n",
      "  coefs, resid, _, _ = np.linalg.lstsq(A, x)\n"
     ]
    },
    {
     "ename": "NameError",
     "evalue": "name 'f' is not defined",
     "output_type": "error",
     "traceback": [
      "\u001b[1;31m---------------------------------------------------------------------------\u001b[0m",
      "\u001b[1;31mNameError\u001b[0m                                 Traceback (most recent call last)",
      "Cell \u001b[1;32mIn[19], line 17\u001b[0m\n\u001b[0;32m     13\u001b[0m x0, v0, g \u001b[38;5;241m=\u001b[39m coefs[\u001b[38;5;241m0\u001b[39m], coefs[\u001b[38;5;241m1\u001b[39m], coefs[\u001b[38;5;241m2\u001b[39m] \u001b[38;5;241m*\u001b[39m \u001b[38;5;241m2\u001b[39m \u001b[38;5;241m/\u001b[39m \u001b[38;5;241m100\u001b[39m\n\u001b[0;32m     15\u001b[0m \u001b[38;5;28mprint\u001b[39m(\u001b[38;5;124m'\u001b[39m\u001b[38;5;124mx0 = \u001b[39m\u001b[38;5;132;01m{:.2f}\u001b[39;00m\u001b[38;5;124m cm, v0 = \u001b[39m\u001b[38;5;132;01m{:.2f}\u001b[39;00m\u001b[38;5;124m cm.s-1, g = \u001b[39m\u001b[38;5;132;01m{:.2f}\u001b[39;00m\u001b[38;5;124m m.s-2\u001b[39m\u001b[38;5;124m'\u001b[39m\u001b[38;5;241m.\u001b[39mformat(x0, v0, g))\n\u001b[1;32m---> 17\u001b[0m xfit \u001b[38;5;241m=\u001b[39m Polynomial(coefs)(f)\n\u001b[0;32m     18\u001b[0m pylab\u001b[38;5;241m.\u001b[39mplot(t, x, \u001b[38;5;124m'\u001b[39m\u001b[38;5;124mko\u001b[39m\u001b[38;5;124m'\u001b[39m)\n\u001b[0;32m     19\u001b[0m pylab\u001b[38;5;241m.\u001b[39mplot(t, xfit, \u001b[38;5;124m'\u001b[39m\u001b[38;5;124mr\u001b[39m\u001b[38;5;124m'\u001b[39m)\n",
      "\u001b[1;31mNameError\u001b[0m: name 'f' is not defined"
     ]
    }
   ],
   "source": [
    "import numpy as np\n",
    "import pylab\n",
    "Polynomial = np.polynomial.Polynomial\n",
    "\n",
    "x = np.array([1.3, 6.0, 20.2, 43.9, 77.0, 119.6, 171.7, 233.2, 304.2, 384.7, 474.7, 574.1, 683.0, 801.3, 929.2, 1066.4, 1213.2, 1369.4, 1535.1, 1710.3, 1894.9])\n",
    "dt, n = 0.1, len(x)\n",
    "tmax = dt * (n-1)\n",
    "t = np.linspace(0, tmax, n)\n",
    "\n",
    "A = np.vstack((np.ones(n), t, t**2)).T\n",
    "coefs, resid, _, _ = np.linalg.lstsq(A, x)\n",
    "\n",
    "x0, v0, g = coefs[0], coefs[1], coefs[2] * 2 / 100\n",
    "\n",
    "print('x0 = {:.2f} cm, v0 = {:.2f} cm.s-1, g = {:.2f} m.s-2'.format(x0, v0, g))\n",
    "\n",
    "xfit = Polynomial(coefs)(f)\n",
    "pylab.plot(t, x, 'ko')\n",
    "pylab.plot(t, xfit, 'r')\n",
    "pylab.xlabel('Time (sec)')\n",
    "pylab.ylabel('Distance (cm)')\n",
    "pylab.show()"
   ]
  },
  {
   "cell_type": "code",
   "execution_count": null,
   "id": "ed445315-c49d-40b5-ad87-1e3b1921b33b",
   "metadata": {},
   "outputs": [],
   "source": []
  }
 ],
 "metadata": {
  "kernelspec": {
   "display_name": "Python 3 (ipykernel)",
   "language": "python",
   "name": "python3"
  },
  "language_info": {
   "codemirror_mode": {
    "name": "ipython",
    "version": 3
   },
   "file_extension": ".py",
   "mimetype": "text/x-python",
   "name": "python",
   "nbconvert_exporter": "python",
   "pygments_lexer": "ipython3",
   "version": "3.12.7"
  }
 },
 "nbformat": 4,
 "nbformat_minor": 5
}
